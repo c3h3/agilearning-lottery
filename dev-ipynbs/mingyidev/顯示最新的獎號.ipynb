{
 "cells": [
  {
   "cell_type": "code",
   "execution_count": 1,
   "metadata": {
    "collapsed": false
   },
   "outputs": [
    {
     "name": "stdout",
     "output_type": "stream",
     "text": [
      "Populating the interactive namespace from numpy and matplotlib\n"
     ]
    }
   ],
   "source": [
    "%pylab inline\n",
    "import pandas as pd"
   ]
  },
  {
   "cell_type": "code",
   "execution_count": 2,
   "metadata": {
    "collapsed": false
   },
   "outputs": [],
   "source": [
    "# 今天日期\n",
    "from datetime import datetime,time,date"
   ]
  },
  {
   "cell_type": "code",
   "execution_count": 3,
   "metadata": {
    "collapsed": false
   },
   "outputs": [
    {
     "name": "stdout",
     "output_type": "stream",
     "text": [
      "2015-03-23\n"
     ]
    }
   ],
   "source": [
    "today_date = date.today()\n",
    "print (today_date)"
   ]
  },
  {
   "cell_type": "code",
   "execution_count": 4,
   "metadata": {
    "collapsed": false
   },
   "outputs": [],
   "source": [
    "#抓現有樂透。。。先試著抓下來就好\n",
    "df= pd.read_html(\"http://www.nfd.com.tw/lottery/power-38/2015.htm\",parse_dates=[])"
   ]
  },
  {
   "cell_type": "code",
   "execution_count": 5,
   "metadata": {
    "collapsed": false
   },
   "outputs": [
    {
     "data": {
      "text/plain": [
       "1"
      ]
     },
     "execution_count": 5,
     "metadata": {},
     "output_type": "execute_result"
    }
   ],
   "source": [
    "#要把那唯一的一個抓下來\n",
    "len(df)"
   ]
  },
  {
   "cell_type": "code",
   "execution_count": 6,
   "metadata": {
    "collapsed": false
   },
   "outputs": [
    {
     "name": "stderr",
     "output_type": "stream",
     "text": [
      "/Users/annie/anaconda/envs/py34/lib/python3.4/site-packages/pandas/io/html.py:841: FutureWarning: infer_types will have no effect in 0.14\n",
      "  warnings.warn(\"infer_types will have no effect in 0.14\", FutureWarning)\n"
     ]
    }
   ],
   "source": [
    "#到了py3就把單純的數字視作了日期，以下先暫時弄出來\n",
    "df= pd.read_html(\"http://www.nfd.com.tw/lottery/power-38/2015.htm\",header=0,infer_types=False)[0]"
   ]
  },
  {
   "cell_type": "code",
   "execution_count": 7,
   "metadata": {
    "collapsed": false
   },
   "outputs": [
    {
     "data": {
      "text/html": [
       "<div style=\"max-height:1000px;max-width:1500px;overflow:auto;\">\n",
       "<table border=\"1\" class=\"dataframe\">\n",
       "  <thead>\n",
       "    <tr style=\"text-align: right;\">\n",
       "      <th></th>\n",
       "      <th>年份</th>\n",
       "      <th>日期</th>\n",
       "      <th>期數</th>\n",
       "      <th>球號 1</th>\n",
       "      <th>球號 2</th>\n",
       "      <th>球號 3</th>\n",
       "      <th>球號 4</th>\n",
       "      <th>球號 5</th>\n",
       "      <th>球號 6</th>\n",
       "      <th>特號</th>\n",
       "      <th>總期數</th>\n",
       "    </tr>\n",
       "  </thead>\n",
       "  <tbody>\n",
       "    <tr>\n",
       "      <th>0</th>\n",
       "      <td> 2015</td>\n",
       "      <td> 01/ 01</td>\n",
       "      <td> 1</td>\n",
       "      <td>  1</td>\n",
       "      <td>  3</td>\n",
       "      <td>  5</td>\n",
       "      <td> 11</td>\n",
       "      <td> 17</td>\n",
       "      <td> 21</td>\n",
       "      <td> 2</td>\n",
       "      <td> 725</td>\n",
       "    </tr>\n",
       "    <tr>\n",
       "      <th>1</th>\n",
       "      <td> 2015</td>\n",
       "      <td> 01/ 05</td>\n",
       "      <td> 2</td>\n",
       "      <td>  1</td>\n",
       "      <td>  6</td>\n",
       "      <td> 15</td>\n",
       "      <td> 23</td>\n",
       "      <td> 26</td>\n",
       "      <td> 34</td>\n",
       "      <td> 6</td>\n",
       "      <td> 726</td>\n",
       "    </tr>\n",
       "    <tr>\n",
       "      <th>2</th>\n",
       "      <td> 2015</td>\n",
       "      <td> 01/ 08</td>\n",
       "      <td> 3</td>\n",
       "      <td>  3</td>\n",
       "      <td> 13</td>\n",
       "      <td> 17</td>\n",
       "      <td> 29</td>\n",
       "      <td> 36</td>\n",
       "      <td> 38</td>\n",
       "      <td> 7</td>\n",
       "      <td> 727</td>\n",
       "    </tr>\n",
       "    <tr>\n",
       "      <th>3</th>\n",
       "      <td> 2015</td>\n",
       "      <td> 01/ 12</td>\n",
       "      <td> 4</td>\n",
       "      <td> 16</td>\n",
       "      <td> 25</td>\n",
       "      <td> 30</td>\n",
       "      <td> 35</td>\n",
       "      <td> 36</td>\n",
       "      <td> 37</td>\n",
       "      <td> 5</td>\n",
       "      <td> 728</td>\n",
       "    </tr>\n",
       "    <tr>\n",
       "      <th>4</th>\n",
       "      <td> 2015</td>\n",
       "      <td> 01/ 15</td>\n",
       "      <td> 5</td>\n",
       "      <td>  1</td>\n",
       "      <td>  3</td>\n",
       "      <td> 16</td>\n",
       "      <td> 28</td>\n",
       "      <td> 29</td>\n",
       "      <td> 37</td>\n",
       "      <td> 2</td>\n",
       "      <td> 729</td>\n",
       "    </tr>\n",
       "  </tbody>\n",
       "</table>\n",
       "</div>"
      ],
      "text/plain": [
       "     年份      日期 期數 球號 1 球號 2 球號 3 球號 4 球號 5 球號 6 特號  總期數\n",
       "0  2015  01/ 01  1    1    3    5   11   17   21  2  725\n",
       "1  2015  01/ 05  2    1    6   15   23   26   34  6  726\n",
       "2  2015  01/ 08  3    3   13   17   29   36   38  7  727\n",
       "3  2015  01/ 12  4   16   25   30   35   36   37  5  728\n",
       "4  2015  01/ 15  5    1    3   16   28   29   37  2  729"
      ]
     },
     "execution_count": 7,
     "metadata": {},
     "output_type": "execute_result"
    }
   ],
   "source": [
    "df.head()"
   ]
  },
  {
   "cell_type": "code",
   "execution_count": 8,
   "metadata": {
    "collapsed": true
   },
   "outputs": [],
   "source": [
    "l=len(df)-1\n",
    "last=df.ix[l]"
   ]
  },
  {
   "cell_type": "code",
   "execution_count": 9,
   "metadata": {
    "collapsed": false
   },
   "outputs": [
    {
     "data": {
      "text/plain": [
       "年份        2015\n",
       "日期      03/ 19\n",
       "期數          23\n",
       "球號 1         6\n",
       "球號 2        17\n",
       "球號 3        30\n",
       "球號 4        34\n",
       "球號 5        35\n",
       "球號 6        38\n",
       "特號           2\n",
       "總期數        747\n",
       "Name: 22, dtype: object"
      ]
     },
     "execution_count": 9,
     "metadata": {},
     "output_type": "execute_result"
    }
   ],
   "source": [
    "last"
   ]
  },
  {
   "cell_type": "code",
   "execution_count": 10,
   "metadata": {
    "collapsed": true
   },
   "outputs": [],
   "source": [
    "last=pd.DataFrame(last)"
   ]
  },
  {
   "cell_type": "code",
   "execution_count": 11,
   "metadata": {
    "collapsed": false
   },
   "outputs": [
    {
     "data": {
      "text/plain": [
       "Index(['年份', '日期', '期數', '球號 1', '球號 2', '球號 3', '球號 4', '球號 5', '球號 6', '特號', '總期數'], dtype='object')"
      ]
     },
     "execution_count": 11,
     "metadata": {},
     "output_type": "execute_result"
    }
   ],
   "source": [
    "last.index"
   ]
  },
  {
   "cell_type": "code",
   "execution_count": 12,
   "metadata": {
    "collapsed": false
   },
   "outputs": [
    {
     "name": "stdout",
     "output_type": "stream",
     "text": [
      "['上一期號碼 6,17,30,34,35,38']\n"
     ]
    }
   ],
   "source": [
    "print (\"上一期號碼 \"+last.ix['球號 1'].values+\",\"+last.ix['球號 2'].values+\",\"+last.ix['球號 3'].values+\",\"+last.ix['球號 4'].values+\",\"+last.ix['球號 5'].values+\",\"+last.ix['球號 6'].values)"
   ]
  },
  {
   "cell_type": "code",
   "execution_count": 13,
   "metadata": {
    "collapsed": false
   },
   "outputs": [],
   "source": [
    "#print (\"上一期開獎時間 \"+last.ix['年份'].values+\"/ \"+last.ix['日期'].values)"
   ]
  },
  {
   "cell_type": "code",
   "execution_count": 14,
   "metadata": {
    "collapsed": false
   },
   "outputs": [
    {
     "data": {
      "text/plain": [
       "0"
      ]
     },
     "execution_count": 14,
     "metadata": {},
     "output_type": "execute_result"
    }
   ],
   "source": [
    "#顯示星期幾用weekday()\n",
    "today_date.weekday()"
   ]
  },
  {
   "cell_type": "code",
   "execution_count": 15,
   "metadata": {
    "collapsed": false
   },
   "outputs": [],
   "source": [
    "#把日期弄成看得懂的方式去辨識\n",
    "u=str(last.ix['日期'].values).strip(\"[']\")"
   ]
  },
  {
   "cell_type": "code",
   "execution_count": 16,
   "metadata": {
    "collapsed": false
   },
   "outputs": [],
   "source": [
    "u=u.split(\"/ \")"
   ]
  },
  {
   "cell_type": "code",
   "execution_count": 17,
   "metadata": {
    "collapsed": false
   },
   "outputs": [
    {
     "data": {
      "text/plain": [
       "3"
      ]
     },
     "execution_count": 17,
     "metadata": {},
     "output_type": "execute_result"
    }
   ],
   "source": [
    "int(u[0])"
   ]
  },
  {
   "cell_type": "code",
   "execution_count": 18,
   "metadata": {
    "collapsed": false
   },
   "outputs": [
    {
     "data": {
      "text/plain": [
       "'2015'"
      ]
     },
     "execution_count": 18,
     "metadata": {},
     "output_type": "execute_result"
    }
   ],
   "source": [
    "y=str(last.ix['年份'].values).strip(\"[']\")\n",
    "y"
   ]
  },
  {
   "cell_type": "code",
   "execution_count": 19,
   "metadata": {
    "collapsed": false
   },
   "outputs": [],
   "source": [
    "#d=\",\".join((y,u[0],u[1]))\n",
    "w=date(int(y),int(u[0]),int(u[1])).weekday()"
   ]
  },
  {
   "cell_type": "code",
   "execution_count": 20,
   "metadata": {
    "collapsed": false
   },
   "outputs": [],
   "source": [
    "def weekday(x):\n",
    "    n=({0:u\"一\",1:u\"二\",2:u\"三\",3:u\"四\",4:u\"五\",5:u\"六\",6:u\"日\"})\n",
    "    return (n[x])"
   ]
  },
  {
   "cell_type": "code",
   "execution_count": 21,
   "metadata": {
    "collapsed": false
   },
   "outputs": [
    {
     "name": "stdout",
     "output_type": "stream",
     "text": [
      "['上一期開獎時間 2015/ 03/ 19 (四)']\n"
     ]
    }
   ],
   "source": [
    "print (\"上一期開獎時間 \"+last.ix['年份'].values+\"/ \"+last.ix['日期'].values+\" (\"+str(weekday(w))+\")\")"
   ]
  },
  {
   "cell_type": "code",
   "execution_count": 22,
   "metadata": {
    "collapsed": false
   },
   "outputs": [
    {
     "name": "stdout",
     "output_type": "stream",
     "text": [
      "The following commands were written to file `lastnum.py`:\n",
      "get_ipython().magic('pylab inline')\n",
      "import pandas as pd\n",
      "# 今天日期\n",
      "from datetime import datetime,time,date\n",
      "today_date = date.today()\n",
      "print (today_date)\n",
      "#抓現有樂透。。。先試著抓下來就好\n",
      "df= pd.read_html(\"http://www.nfd.com.tw/lottery/power-38/2015.htm\",parse_dates=[])\n",
      "#要把那唯一的一個抓下來\n",
      "len(df)\n",
      "#到了py3就把單純的數字視作了日期，以下先暫時弄出來\n",
      "df= pd.read_html(\"http://www.nfd.com.tw/lottery/power-38/2015.htm\",header=0,infer_types=False)[0]\n",
      "df.head()\n",
      "l=len(df)-1\n",
      "last=df.ix[l]\n",
      "last\n",
      "last=pd.DataFrame(last)\n",
      "last.index\n",
      "print (\"上一期號碼 \"+last.ix['球號 1'].values+\",\"+last.ix['球號 2'].values+\",\"+last.ix['球號 3'].values+\",\"+last.ix['球號 4'].values+\",\"+last.ix['球號 5'].values+\",\"+last.ix['球號 6'].values)\n",
      "#print (\"上一期開獎時間 \"+last.ix['年份'].values+\"/ \"+last.ix['日期'].values)\n",
      "#顯示星期幾用weekday()\n",
      "today_date.weekday()\n",
      "#把日期弄成看得懂的方式去辨識\n",
      "u=str(last.ix['日期'].values).strip(\"[']\")\n",
      "u=u.split(\"/ \")\n",
      "int(u[0])\n",
      "y=str(last.ix['年份'].values).strip(\"[']\")\n",
      "y\n",
      "#d=\",\".join((y,u[0],u[1]))\n",
      "w=date(int(y),int(u[0]),int(u[1])).weekday()\n",
      "def weekday(x):\n",
      "    n=({0:u\"一\",1:u\"二\",2:u\"三\",3:u\"四\",4:u\"五\",5:u\"六\",6:u\"日\"})\n",
      "    return (n[x])\n",
      "print (\"上一期開獎時間 \"+last.ix['年份'].values+\"/ \"+last.ix['日期'].values+\" (\"+str(weekday(w))+\")\")\n"
     ]
    }
   ],
   "source": [
    "%save lastnum.py 1-21"
   ]
  },
  {
   "cell_type": "code",
   "execution_count": 23,
   "metadata": {
    "collapsed": false
   },
   "outputs": [
    {
     "name": "stderr",
     "output_type": "stream",
     "text": [
      "WARNING: pylab import has clobbered these variables: ['datetime']\n",
      "`%matplotlib` prevents importing * from pylab and numpy\n",
      "/Users/annie/anaconda/envs/py34/lib/python3.4/site-packages/pandas/io/html.py:841: FutureWarning: infer_types will have no effect in 0.14\n",
      "  warnings.warn(\"infer_types will have no effect in 0.14\", FutureWarning)\n"
     ]
    },
    {
     "name": "stdout",
     "output_type": "stream",
     "text": [
      "Populating the interactive namespace from numpy and matplotlib\n",
      "2015-03-23\n",
      "['上一期號碼 6,17,30,34,35,38']\n",
      "['上一期開獎時間 2015/ 03/ 19 (四)']\n"
     ]
    }
   ],
   "source": [
    "%run lastnum.py"
   ]
  },
  {
   "cell_type": "code",
   "execution_count": null,
   "metadata": {
    "collapsed": true
   },
   "outputs": [],
   "source": []
  }
 ],
 "metadata": {
  "kernelspec": {
   "display_name": "Python 3",
   "language": "python",
   "name": "python3"
  },
  "language_info": {
   "codemirror_mode": {
    "name": "ipython",
    "version": 3
   },
   "file_extension": ".py",
   "mimetype": "text/x-python",
   "name": "python",
   "nbconvert_exporter": "python",
   "pygments_lexer": "ipython3",
   "version": "3.4.3"
  }
 },
 "nbformat": 4,
 "nbformat_minor": 0
}
