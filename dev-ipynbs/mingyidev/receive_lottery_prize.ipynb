{
 "cells": [
  {
   "cell_type": "code",
   "execution_count": 1,
   "metadata": {
    "collapsed": false
   },
   "outputs": [
    {
     "name": "stdout",
     "output_type": "stream",
     "text": [
      "Populating the interactive namespace from numpy and matplotlib\n"
     ]
    },
    {
     "name": "stderr",
     "output_type": "stream",
     "text": [
      ":0: FutureWarning: IPython widgets are experimental and may change in the future.\n"
     ]
    }
   ],
   "source": [
    "%pylab inline\n",
    "import pandas as pd\n",
    "from IPython.html.widgets import interact"
   ]
  },
  {
   "cell_type": "code",
   "execution_count": 2,
   "metadata": {
    "collapsed": true
   },
   "outputs": [],
   "source": [
    "#把index用columns[0]表示\n",
    "df=pd.read_csv(\"history.csv\",index_col=[0])"
   ]
  },
  {
   "cell_type": "code",
   "execution_count": 3,
   "metadata": {
    "collapsed": false
   },
   "outputs": [
    {
     "data": {
      "text/html": [
       "<div style=\"max-height:1000px;max-width:1500px;overflow:auto;\">\n",
       "<table border=\"1\" class=\"dataframe\">\n",
       "  <thead>\n",
       "    <tr style=\"text-align: right;\">\n",
       "      <th></th>\n",
       "      <th>TN</th>\n",
       "      <th>YN</th>\n",
       "      <th>year</th>\n",
       "      <th>month</th>\n",
       "      <th>day</th>\n",
       "      <th>x1</th>\n",
       "      <th>x2</th>\n",
       "      <th>x3</th>\n",
       "      <th>x4</th>\n",
       "      <th>x5</th>\n",
       "      <th>x6</th>\n",
       "      <th>s</th>\n",
       "    </tr>\n",
       "  </thead>\n",
       "  <tbody>\n",
       "    <tr>\n",
       "      <th>100</th>\n",
       "      <td> 101</td>\n",
       "      <td> 3</td>\n",
       "      <td> 2009</td>\n",
       "      <td> 1</td>\n",
       "      <td>  8</td>\n",
       "      <td> 4</td>\n",
       "      <td>  5</td>\n",
       "      <td> 12</td>\n",
       "      <td> 18</td>\n",
       "      <td> 24</td>\n",
       "      <td> 28</td>\n",
       "      <td> 1</td>\n",
       "    </tr>\n",
       "    <tr>\n",
       "      <th>101</th>\n",
       "      <td> 102</td>\n",
       "      <td> 4</td>\n",
       "      <td> 2009</td>\n",
       "      <td> 1</td>\n",
       "      <td> 12</td>\n",
       "      <td> 9</td>\n",
       "      <td> 13</td>\n",
       "      <td> 14</td>\n",
       "      <td> 23</td>\n",
       "      <td> 29</td>\n",
       "      <td> 36</td>\n",
       "      <td> 8</td>\n",
       "    </tr>\n",
       "    <tr>\n",
       "      <th>102</th>\n",
       "      <td> 103</td>\n",
       "      <td> 5</td>\n",
       "      <td> 2009</td>\n",
       "      <td> 1</td>\n",
       "      <td> 15</td>\n",
       "      <td> 3</td>\n",
       "      <td> 15</td>\n",
       "      <td> 17</td>\n",
       "      <td> 28</td>\n",
       "      <td> 29</td>\n",
       "      <td> 37</td>\n",
       "      <td> 4</td>\n",
       "    </tr>\n",
       "    <tr>\n",
       "      <th>103</th>\n",
       "      <td> 104</td>\n",
       "      <td> 6</td>\n",
       "      <td> 2009</td>\n",
       "      <td> 1</td>\n",
       "      <td> 19</td>\n",
       "      <td> 1</td>\n",
       "      <td>  3</td>\n",
       "      <td>  4</td>\n",
       "      <td> 12</td>\n",
       "      <td> 21</td>\n",
       "      <td> 31</td>\n",
       "      <td> 8</td>\n",
       "    </tr>\n",
       "    <tr>\n",
       "      <th>104</th>\n",
       "      <td> 105</td>\n",
       "      <td> 7</td>\n",
       "      <td> 2009</td>\n",
       "      <td> 1</td>\n",
       "      <td> 22</td>\n",
       "      <td> 7</td>\n",
       "      <td> 10</td>\n",
       "      <td> 11</td>\n",
       "      <td> 23</td>\n",
       "      <td> 24</td>\n",
       "      <td> 35</td>\n",
       "      <td> 8</td>\n",
       "    </tr>\n",
       "  </tbody>\n",
       "</table>\n",
       "</div>"
      ],
      "text/plain": [
       "      TN  YN  year  month  day  x1  x2  x3  x4  x5  x6  s\n",
       "100  101   3  2009      1    8   4   5  12  18  24  28  1\n",
       "101  102   4  2009      1   12   9  13  14  23  29  36  8\n",
       "102  103   5  2009      1   15   3  15  17  28  29  37  4\n",
       "103  104   6  2009      1   19   1   3   4  12  21  31  8\n",
       "104  105   7  2009      1   22   7  10  11  23  24  35  8"
      ]
     },
     "execution_count": 3,
     "metadata": {},
     "output_type": "execute_result"
    }
   ],
   "source": [
    "df[100:105]"
   ]
  },
  {
   "cell_type": "markdown",
   "metadata": {},
   "source": [
    "##target:對獎"
   ]
  },
  {
   "cell_type": "code",
   "execution_count": 4,
   "metadata": {
    "collapsed": false
   },
   "outputs": [],
   "source": [
    "a=0\n",
    "def ini(a):\n",
    "    \"\"\"輸入購買的日期和號碼\"\"\"\n",
    "    print (\"第一區1~38選六,第二區（特別號）1~8選一\")\n",
    "    y=input('year ')\n",
    "    m=input('month ')\n",
    "    d=input('day ')\n",
    "    x1=input('第一碼 ')\n",
    "    x2=input('第二碼 ')\n",
    "    x3=input('第三碼 ')\n",
    "    x4=input('第四碼 ')\n",
    "    x5=input('第五碼 ')\n",
    "    x6=input('第六碼 ')\n",
    "    s=input('特別號 ')\n",
    "    #x=[int(y),int(m),int(d),int(x1)]\n",
    "    x=array(list(map(int,[y,m,d,x1,x2,x3,x4,x5,x6,s])))\n",
    "    return x"
   ]
  },
  {
   "cell_type": "code",
   "execution_count": 5,
   "metadata": {
    "collapsed": false
   },
   "outputs": [
    {
     "name": "stdout",
     "output_type": "stream",
     "text": [
      "第一區1~38選六,第二區（特別號）1~8選一\n",
      "year 2009\n",
      "month 1\n",
      "day 22\n",
      "第一碼 1\n",
      "第二碼 2\n",
      "第三碼 34\n",
      "第四碼 26\n",
      "第五碼 6\n",
      "第六碼 9\n",
      "特別號 3\n"
     ]
    }
   ],
   "source": [
    "x=ini(a)"
   ]
  },
  {
   "cell_type": "code",
   "execution_count": 6,
   "metadata": {
    "collapsed": false
   },
   "outputs": [
    {
     "data": {
      "text/plain": [
       "array([2009,    1,   22,    1,    2,   34,   26,    6,    9,    3])"
      ]
     },
     "execution_count": 6,
     "metadata": {},
     "output_type": "execute_result"
    }
   ],
   "source": [
    "x"
   ]
  },
  {
   "cell_type": "code",
   "execution_count": 3,
   "metadata": {
    "collapsed": false
   },
   "outputs": [],
   "source": [
    "#多重條件用(cond1)&(cond2)\n",
    "def n(x):\n",
    "    c=df[(df['year']==x[0]) & (df['month']==x[1]) & (df['day']==x[2])]#pandas裏的and\n",
    "    #y=[int(c['x1']),int(c['x2']),int(c['x3']),int(c['x4']),int(c['x5']),int(c['x6']),int(c['s'])].values\n",
    "    y=c[['x1','x2','x3','x4','x5','x6','s']].values[0]\n",
    "    return y"
   ]
  },
  {
   "cell_type": "code",
   "execution_count": 4,
   "metadata": {
    "collapsed": false
   },
   "outputs": [
    {
     "ename": "NameError",
     "evalue": "name 'x' is not defined",
     "output_type": "error",
     "traceback": [
      "\u001b[0;31m---------------------------------------------------------------------------\u001b[0m",
      "\u001b[0;31mNameError\u001b[0m                                 Traceback (most recent call last)",
      "\u001b[0;32m<ipython-input-4-f1c1811ffabe>\u001b[0m in \u001b[0;36m<module>\u001b[0;34m()\u001b[0m\n\u001b[0;32m----> 1\u001b[0;31m \u001b[0mlot\u001b[0m \u001b[0;34m=\u001b[0m \u001b[0mn\u001b[0m\u001b[0;34m(\u001b[0m\u001b[0mx\u001b[0m\u001b[0;34m)\u001b[0m\u001b[0;34m\u001b[0m\u001b[0m\n\u001b[0m",
      "\u001b[0;31mNameError\u001b[0m: name 'x' is not defined"
     ]
    }
   ],
   "source": [
    "lot = n(x)"
   ]
  },
  {
   "cell_type": "code",
   "execution_count": 9,
   "metadata": {
    "collapsed": false
   },
   "outputs": [
    {
     "data": {
      "text/plain": [
       "array([ 7, 10, 11, 23, 24, 35,  8])"
      ]
     },
     "execution_count": 9,
     "metadata": {},
     "output_type": "execute_result"
    }
   ],
   "source": [
    "lot"
   ]
  },
  {
   "cell_type": "markdown",
   "metadata": {},
   "source": [
    "array裡出現一項，把他取出來array[[1,2,3,4,5,6,7]]\n",
    "d=d.values[0]"
   ]
  },
  {
   "cell_type": "markdown",
   "metadata": {},
   "source": [
    "把他轉成純文字to_csv()\n",
    "list(map(int, d.to_csv().split(\"\\n\")[1].split(\",\")[1:]))"
   ]
  },
  {
   "cell_type": "markdown",
   "metadata": {},
   "source": [
    "eval(\"[\" + d.to_csv().split(\"\\n\")[1] + \"]\")[1:]"
   ]
  },
  {
   "cell_type": "markdown",
   "metadata": {},
   "source": [
    "eval(\"[a,'1',s,2]\")"
   ]
  },
  {
   "cell_type": "code",
   "execution_count": 10,
   "metadata": {
    "collapsed": false
   },
   "outputs": [
    {
     "data": {
      "text/plain": [
       "array([ 1,  2, 34, 26,  6,  9,  3])"
      ]
     },
     "execution_count": 10,
     "metadata": {},
     "output_type": "execute_result"
    }
   ],
   "source": [
    "#x1是x取樂透號碼\n",
    "x1=x[3:]\n",
    "x1"
   ]
  },
  {
   "cell_type": "code",
   "execution_count": 11,
   "metadata": {
    "collapsed": false
   },
   "outputs": [],
   "source": [
    "#對前六碼\n",
    "def rec(lot,x1):\n",
    "    a=0\n",
    "    for i in lot[:6]:\n",
    "        for j in x1[:6]:\n",
    "            if i==j:a=a+1\n",
    "    return a"
   ]
  },
  {
   "cell_type": "code",
   "execution_count": 12,
   "metadata": {
    "collapsed": false
   },
   "outputs": [
    {
     "data": {
      "text/plain": [
       "0"
      ]
     },
     "execution_count": 12,
     "metadata": {},
     "output_type": "execute_result"
    }
   ],
   "source": [
    "f=rec(lot,x1)\n",
    "f"
   ]
  },
  {
   "cell_type": "code",
   "execution_count": 13,
   "metadata": {
    "collapsed": false
   },
   "outputs": [
    {
     "data": {
      "text/plain": [
       "0"
      ]
     },
     "execution_count": 13,
     "metadata": {},
     "output_type": "execute_result"
    }
   ],
   "source": [
    "#對最後一碼\n",
    "m=int(x1[6]==lot[6])\n",
    "m"
   ]
  },
  {
   "cell_type": "code",
   "execution_count": 14,
   "metadata": {
    "collapsed": true
   },
   "outputs": [],
   "source": [
    "u=[f,m]"
   ]
  },
  {
   "cell_type": "code",
   "execution_count": 15,
   "metadata": {
    "collapsed": false
   },
   "outputs": [],
   "source": [
    "def dis(u):\n",
    "    '''印出中多少號碼和中獎金額跟項目'''\n",
    "    dict={'[6, 1]':'頭獎',\n",
    "          '[6, 0]':'貳獎',\n",
    "          '[5, 1]':'參獎,新臺幣150,000元',\n",
    "          '[5, 0]':'肆獎,新臺幣20,000元',\n",
    "          '[4, 1]':'伍獎,新臺幣4,000元',\n",
    "          '[4, 0]':'陸獎,新臺幣800元',\n",
    "          '[3, 1]':'柒獎,新臺幣400元',\n",
    "          '[3, 0]':'玖獎,新臺幣100元',\n",
    "          '[2, 1]':'捌獎,新臺幣200元',\n",
    "          '[2, 0]':'未中',\n",
    "          '[1, 1]':'普獎,新臺幣100元',\n",
    "          '[1, 0]':'未中',\n",
    "          '[0, 1]':'未中',\n",
    "          '[0, 0]':'未中'}\n",
    "    if u[1]==0:\n",
    "        print (\"前六碼中\"+str(f)+\"碼，特別號沒中, 獎項是\"+dict[str(u)]+\".\")\n",
    "    else:\n",
    "        print (\"前六碼中\"+str(f)+\"碼，特別號有中！獎項是\"+dict[str(u)]+\".\")\n",
    "    \n",
    "    \n",
    "    "
   ]
  },
  {
   "cell_type": "code",
   "execution_count": 16,
   "metadata": {
    "collapsed": false
   },
   "outputs": [
    {
     "name": "stdout",
     "output_type": "stream",
     "text": [
      "前六碼中0碼，特別號沒中, 獎項是未中.\n"
     ]
    }
   ],
   "source": [
    "dis(u)"
   ]
  },
  {
   "cell_type": "code",
   "execution_count": 17,
   "metadata": {
    "collapsed": false
   },
   "outputs": [
    {
     "name": "stdout",
     "output_type": "stream",
     "text": [
      "File `receive_lotto_prize.py` exists. Overwrite (y/[N])?  y\n",
      "The following commands were written to file `receive_lotto_prize.py`:\n",
      "get_ipython().magic('pylab inline')\n",
      "import pandas as pd\n",
      "from IPython.html.widgets import interact\n",
      "#把index用columns[0]表示\n",
      "df=pd.read_csv(\"history.csv\",index_col=[0])\n",
      "df[100:105]\n",
      "a=0\n",
      "def ini(a):\n",
      "    \"\"\"輸入購買的日期和號碼\"\"\"\n",
      "    print (\"第一區1~38選六,第二區（特別號）1~8選一\")\n",
      "    y=input('year ')\n",
      "    m=input('month ')\n",
      "    d=input('day ')\n",
      "    x1=input('第一碼 ')\n",
      "    x2=input('第二碼 ')\n",
      "    x3=input('第三碼 ')\n",
      "    x4=input('第四碼 ')\n",
      "    x5=input('第五碼 ')\n",
      "    x6=input('第六碼 ')\n",
      "    s=input('特別號 ')\n",
      "    #x=[int(y),int(m),int(d),int(x1)]\n",
      "    x=array(list(map(int,[y,m,d,x1,x2,x3,x4,x5,x6,s])))\n",
      "    return x\n",
      "x=ini(a)\n",
      "x\n",
      "#多重條件用(cond1)&(cond2)\n",
      "def n(x):\n",
      "    c=df[(df['year']==x[0]) & (df['month']==x[1]) & (df['day']==x[2])]#pandas裏的and\n",
      "    #y=[int(c['x1']),int(c['x2']),int(c['x3']),int(c['x4']),int(c['x5']),int(c['x6']),int(c['s'])].values\n",
      "    y=c[['x1','x2','x3','x4','x5','x6','s']].values[0]\n",
      "    return y\n",
      "lot = n(x)\n",
      "lot\n",
      "#x1是x取樂透號碼\n",
      "x1=x[3:]\n",
      "x1\n",
      "#對前六碼\n",
      "def rec(lot,x1):\n",
      "    a=0\n",
      "    for i in lot[:6]:\n",
      "        for j in x1[:6]:\n",
      "            if i==j:a=a+1\n",
      "    return a\n",
      "f=rec(lot,x1)\n",
      "f\n",
      "#對最後一碼\n",
      "m=int(x1[6]==lot[6])\n",
      "m\n",
      "u=[f,m]\n",
      "def dis(u):\n",
      "    '''印出中多少號碼和中獎金額跟項目'''\n",
      "    dict={'[6, 1]':'頭獎',\n",
      "          '[6, 0]':'貳獎',\n",
      "          '[5, 1]':'參獎,新臺幣150,000元',\n",
      "          '[5, 0]':'肆獎,新臺幣20,000元',\n",
      "          '[4, 1]':'伍獎,新臺幣4,000元',\n",
      "          '[4, 0]':'陸獎,新臺幣800元',\n",
      "          '[3, 1]':'柒獎,新臺幣400元',\n",
      "          '[3, 0]':'玖獎,新臺幣100元',\n",
      "          '[2, 1]':'捌獎,新臺幣200元',\n",
      "          '[2, 0]':'未中',\n",
      "          '[1, 1]':'普獎,新臺幣100元',\n",
      "          '[1, 0]':'未中',\n",
      "          '[0, 1]':'未中',\n",
      "          '[0, 0]':'未中'}\n",
      "    if u[1]==0:\n",
      "        print (\"前六碼中\"+str(f)+\"碼，特別號沒中, 獎項是\"+dict[str(u)]+\".\")\n",
      "    else:\n",
      "        print (\"前六碼中\"+str(f)+\"碼，特別號有中！獎項是\"+dict[str(u)]+\".\")\n",
      "    \n",
      "    \n",
      "    \n",
      "dis(u)\n"
     ]
    }
   ],
   "source": [
    "%save receive_lotto_prize.py 1-16"
   ]
  },
  {
   "cell_type": "code",
   "execution_count": null,
   "metadata": {
    "collapsed": true
   },
   "outputs": [],
   "source": []
  }
 ],
 "metadata": {
  "kernelspec": {
   "display_name": "Python 3",
   "language": "python",
   "name": "python3"
  },
  "language_info": {
   "codemirror_mode": {
    "name": "ipython",
    "version": 3
   },
   "file_extension": ".py",
   "mimetype": "text/x-python",
   "name": "python",
   "nbconvert_exporter": "python",
   "pygments_lexer": "ipython3",
   "version": "3.4.3"
  }
 },
 "nbformat": 4,
 "nbformat_minor": 0
}
